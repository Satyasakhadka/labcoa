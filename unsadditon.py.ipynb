{
 "cells": [
  {
   "cell_type": "code",
   "execution_count": 2,
   "id": "092b9006",
   "metadata": {},
   "outputs": [
    {
     "name": "stdout",
     "output_type": "stream",
     "text": [
      "Enter the number of bits:8\n"
     ]
    }
   ],
   "source": [
    "def AND(num1,num2):\n",
    "    if(num1=='1' and num2=='1'):\n",
    "        return '1'\n",
    "    else:\n",
    "        return '0'\n",
    "def OR(num1,num2):\n",
    "    if(num1=='1' or num2=='1'):\n",
    "        return '1'\n",
    "    else:\n",
    "        return '0'\n",
    "def XOR(num1,num2):\n",
    "    if(num1==num2):\n",
    "        return '0'\n",
    "    else:\n",
    "        return '1'\n",
    "n = int(input('Enter the number of bits:'))\n"
   ]
  },
  {
   "cell_type": "code",
   "execution_count": 1,
   "id": "00281ec5",
   "metadata": {},
   "outputs": [
    {
     "name": "stdout",
     "output_type": "stream",
     "text": [
      "Enter the first number:11\n"
     ]
    },
    {
     "ename": "NameError",
     "evalue": "name 'n' is not defined",
     "output_type": "error",
     "traceback": [
      "\u001b[0;31m---------------------------------------------------------------------------\u001b[0m",
      "\u001b[0;31mNameError\u001b[0m                                 Traceback (most recent call last)",
      "Cell \u001b[0;32mIn[1], line 2\u001b[0m\n\u001b[1;32m      1\u001b[0m num_1\u001b[38;5;241m=\u001b[39m\u001b[38;5;28minput\u001b[39m(\u001b[38;5;124m'\u001b[39m\u001b[38;5;124mEnter the first number:\u001b[39m\u001b[38;5;124m'\u001b[39m)\n\u001b[0;32m----> 2\u001b[0m num_1\u001b[38;5;241m=\u001b[39mnum_1\u001b[38;5;241m.\u001b[39mzfill(\u001b[43mn\u001b[49m)\n\u001b[1;32m      3\u001b[0m reverse_num1\u001b[38;5;241m=\u001b[39mnum_1[::\u001b[38;5;241m-\u001b[39m\u001b[38;5;241m1\u001b[39m]\n",
      "\u001b[0;31mNameError\u001b[0m: name 'n' is not defined"
     ]
    }
   ],
   "source": [
    "num_1=input('Enter the first number:')\n",
    "num_1=num_1.zfill(n)\n",
    "reverse_num1=num_1[::-1]\n"
   ]
  },
  {
   "cell_type": "code",
   "execution_count": 4,
   "id": "ea306306",
   "metadata": {},
   "outputs": [
    {
     "name": "stdout",
     "output_type": "stream",
     "text": [
      "Enter the second number:11011111\n"
     ]
    }
   ],
   "source": [
    "num_2=input('Enter the second number:')\n",
    "num_2=num_2.zfill(n)\n",
    "reverse_num2=num_2[::-1]\n"
   ]
  },
  {
   "cell_type": "code",
   "execution_count": 10,
   "id": "b21ea7c1",
   "metadata": {},
   "outputs": [],
   "source": [
    "cin='0'\n",
    "sum=''"
   ]
  },
  {
   "cell_type": "code",
   "execution_count": 11,
   "id": "cc6024d8",
   "metadata": {},
   "outputs": [
    {
     "name": "stdout",
     "output_type": "stream",
     "text": [
      "10010100\n"
     ]
    }
   ],
   "source": [
    "for i in range(0,n):\n",
    "    sum = sum + XOR(XOR(reverse_num1[i],reverse_num2[i]),cin)\n",
    "    intermediate_xor = XOR(reverse_num1[i], reverse_num2[i])\n",
    "    intermediate_and = AND(reverse_num1[i], reverse_num2[i])\n",
    "    cin = OR(intermediate_and, AND(intermediate_xor,cin))\n",
    "sum=sum[::-1]\n",
    "print(sum)"
   ]
  },
  {
   "cell_type": "code",
   "execution_count": 12,
   "id": "722f7481",
   "metadata": {},
   "outputs": [
    {
     "name": "stdout",
     "output_type": "stream",
     "text": [
      " 10110101\n",
      "+11011111\n",
      "---------\n",
      "110010100\n"
     ]
    }
   ],
   "source": [
    "print(' '+num_1)\n",
    "print('+'+num_2)\n",
    "print('-'*(n+1)) \n",
    "print(cin+sum) "
   ]
  },
  {
   "cell_type": "code",
   "execution_count": null,
   "id": "807aac4f",
   "metadata": {},
   "outputs": [],
   "source": []
  },
  {
   "cell_type": "code",
   "execution_count": null,
   "id": "609662d2",
   "metadata": {},
   "outputs": [],
   "source": []
  },
  {
   "cell_type": "code",
   "execution_count": null,
   "id": "7db53ef2",
   "metadata": {},
   "outputs": [],
   "source": []
  }
 ],
 "metadata": {
  "kernelspec": {
   "display_name": "Python 3 (ipykernel)",
   "language": "python",
   "name": "python3"
  },
  "language_info": {
   "codemirror_mode": {
    "name": "ipython",
    "version": 3
   },
   "file_extension": ".py",
   "mimetype": "text/x-python",
   "name": "python",
   "nbconvert_exporter": "python",
   "pygments_lexer": "ipython3",
   "version": "3.10.9"
  }
 },
 "nbformat": 4,
 "nbformat_minor": 5
}
