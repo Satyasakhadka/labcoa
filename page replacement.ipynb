{
 "cells": [
  {
   "cell_type": "code",
   "execution_count": 1,
   "id": "afade826",
   "metadata": {},
   "outputs": [],
   "source": [
    "def fifo():\n",
    "    frame=int(input(\"Enter the frame size:\"))\n",
    "    refstring=[1,2,3,5,3,1,4,5,6]\n",
    "    case=''\n",
    "    cache=[]\n",
    "    insertat=0\n",
    "    print(\"Insert\\t\",\"Cache\\t\")\n",
    "    for i in refstring:\n",
    "        #count:default function that returns the no of ocuurence of data in array\n",
    "        if cache.count(i)>0:\n",
    "            case='hit'\n",
    "        else:\n",
    "            case='miss'\n",
    "            #when the frame is not full\n",
    "            if len(cache)<frame:\n",
    "                cache.append(i)\n",
    "            else:\n",
    "                #modulo operation is used to insert the element from begining once the insertat=framesize\n",
    "                cache[insertat%frame]=i\n",
    "                insertat+=1\n",
    "        print(i,\"\\t\",cache,\"\\t\",case)\n",
    "                \n",
    "        "
   ]
  },
  {
   "cell_type": "code",
   "execution_count": 2,
   "id": "261df8d1",
   "metadata": {},
   "outputs": [],
   "source": [
    "def lru():\n",
    "    frame=int(input(\"Enter the frame size:\"))\n",
    "    refstring=[1,4,0,3,4,5,6,4]\n",
    "    case=''\n",
    "    cache=[]\n",
    "    leastused=[]\n",
    "    for i in refstring:\n",
    "        if cache.count(i)>0:\n",
    "            case='hit'\n",
    "            leastused.remove(i)\n",
    "            leastused.append(i)\n",
    "        else:\n",
    "            case='miss'\n",
    "            if len(cache)<frame :\n",
    "                cache.append(i)\n",
    "                leastused.append(i)\n",
    "            else:\n",
    "                cache[cache.index(leastused[0])]=i\n",
    "                leastused.pop(0)\n",
    "                leastused.append(i)\n",
    "        print(i,\"\\t\",cache,\"\\t\",case,\"\\t\",leastused)\n",
    "    "
   ]
  },
  {
   "cell_type": "code",
   "execution_count": 3,
   "id": "471eb8b9",
   "metadata": {},
   "outputs": [
    {
     "name": "stdout",
     "output_type": "stream",
     "text": [
      "Choose one algorithm for page replacement:\n",
      "      1:FIFO\n",
      "      2:LRU\n"
     ]
    }
   ],
   "source": [
    "print('''Choose one algorithm for page replacement:\n",
    "      1:FIFO\n",
    "      2:LRU''')\n",
    "      "
   ]
  },
  {
   "cell_type": "code",
   "execution_count": 4,
   "id": "30f3135c",
   "metadata": {},
   "outputs": [
    {
     "name": "stdout",
     "output_type": "stream",
     "text": [
      "Press on of the above no:2\n"
     ]
    }
   ],
   "source": [
    "option=input(\"Press on of the above no:\")\n",
    "def switch_case(option):\n",
    "    if option=='1':\n",
    "        fifo()\n",
    "    elif option=='2':\n",
    "        lru()\n",
    "    else:\n",
    "        print(\"enter  option 1 or 2\")"
   ]
  },
  {
   "cell_type": "code",
   "execution_count": 5,
   "id": "797134a1",
   "metadata": {},
   "outputs": [
    {
     "name": "stdout",
     "output_type": "stream",
     "text": [
      "Enter the frame size:4\n",
      "1 \t [1] \t miss \t [1]\n",
      "4 \t [1, 4] \t miss \t [1, 4]\n",
      "0 \t [1, 4, 0] \t miss \t [1, 4, 0]\n",
      "3 \t [1, 4, 0, 3] \t miss \t [1, 4, 0, 3]\n",
      "4 \t [1, 4, 0, 3] \t hit \t [1, 0, 3, 4]\n",
      "5 \t [5, 4, 0, 3] \t miss \t [0, 3, 4, 5]\n",
      "6 \t [5, 4, 6, 3] \t miss \t [3, 4, 5, 6]\n",
      "4 \t [5, 4, 6, 3] \t hit \t [3, 5, 6, 4]\n"
     ]
    }
   ],
   "source": [
    "switch_case(option)"
   ]
  },
  {
   "cell_type": "code",
   "execution_count": null,
   "id": "78a94488",
   "metadata": {},
   "outputs": [],
   "source": []
  }
 ],
 "metadata": {
  "kernelspec": {
   "display_name": "Python 3 (ipykernel)",
   "language": "python",
   "name": "python3"
  },
  "language_info": {
   "codemirror_mode": {
    "name": "ipython",
    "version": 3
   },
   "file_extension": ".py",
   "mimetype": "text/x-python",
   "name": "python",
   "nbconvert_exporter": "python",
   "pygments_lexer": "ipython3",
   "version": "3.10.9"
  }
 },
 "nbformat": 4,
 "nbformat_minor": 5
}
