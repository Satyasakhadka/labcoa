{
 "cells": [
  {
   "cell_type": "code",
   "execution_count": 16,
   "id": "a4c72e06",
   "metadata": {},
   "outputs": [
    {
     "name": "stdout",
     "output_type": "stream",
     "text": [
      "Enter the no of bit:4\n",
      "enter the multiplicand:1100\n",
      "enter the multiplier1111\n",
      "1100 1111\n"
     ]
    }
   ],
   "source": [
    "n=int(input('Enter the no of bit:'))\n",
    "\n",
    "M=input('enter the multiplicand:')\n",
    "M=M.zfill(n)\n",
    "Q=input('enter the multiplier')\n",
    "Q=Q.zfill(n)\n",
    "print(M,Q)"
   ]
  },
  {
   "cell_type": "code",
   "execution_count": null,
   "id": "b1e7bf9d",
   "metadata": {},
   "outputs": [],
   "source": []
  },
  {
   "cell_type": "code",
   "execution_count": 22,
   "id": "9fa47b3b",
   "metadata": {},
   "outputs": [
    {
     "name": "stdout",
     "output_type": "stream",
     "text": [
      "10110100\n"
     ]
    }
   ],
   "source": [
    "partialsum = '0'\n",
    "\n",
    "for bit in Q[::-1]:\n",
    "    \n",
    "    partialsum = partialsum + '0'\n",
    "    if bit == '1':\n",
    "        partialsum = bin(int(partialsum, 2) + int(M, 2))[2:]\n",
    "   \n",
    "print(partialsum)\n",
    "    \n",
    "    \n",
    "    "
   ]
  },
  {
   "cell_type": "code",
   "execution_count": null,
   "id": "5d0d7936",
   "metadata": {},
   "outputs": [],
   "source": []
  },
  {
   "cell_type": "code",
   "execution_count": null,
   "id": "2cac7caf",
   "metadata": {},
   "outputs": [],
   "source": []
  }
 ],
 "metadata": {
  "kernelspec": {
   "display_name": "Python 3 (ipykernel)",
   "language": "python",
   "name": "python3"
  },
  "language_info": {
   "codemirror_mode": {
    "name": "ipython",
    "version": 3
   },
   "file_extension": ".py",
   "mimetype": "text/x-python",
   "name": "python",
   "nbconvert_exporter": "python",
   "pygments_lexer": "ipython3",
   "version": "3.10.9"
  }
 },
 "nbformat": 4,
 "nbformat_minor": 5
}
