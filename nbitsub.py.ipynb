{
 "cells": [
  {
   "cell_type": "code",
   "execution_count": 45,
   "id": "f71e08bd",
   "metadata": {},
   "outputs": [],
   "source": [
    "def AND(num1,num2):\n",
    "    if(num1=='1' and num2=='1'):\n",
    "        return '1'\n",
    "    else:\n",
    "        return '0'\n",
    "def OR(num1,num2):\n",
    "    if(num1=='1' or num2=='1'):\n",
    "        return '1'\n",
    "    else:\n",
    "        return '0'\n",
    "def XOR(num1,num2):\n",
    "    if(num1==num2):\n",
    "        return '0'\n",
    "    else:\n",
    "        return '1'"
   ]
  },
  {
   "cell_type": "code",
   "execution_count": 46,
   "id": "252d1d9d",
   "metadata": {},
   "outputs": [
    {
     "name": "stdout",
     "output_type": "stream",
     "text": [
      "Enter the number of bits:4\n",
      "Enter the number to be subtracted from:1111\n",
      "Enter the number to be subtracted:0100\n",
      "1111 0100\n"
     ]
    }
   ],
   "source": [
    "n=int(input('Enter the number of bits:'))\n",
    "num_1=input('Enter the number to be subtracted from:')\n",
    "num_1=num_1.zfill(n)\n",
    "num_2=input('Enter the number to be subtracted:')\n",
    "num_2=num_2.zfill(n)\n",
    "print(num_1,num_2)"
   ]
  },
  {
   "cell_type": "code",
   "execution_count": 47,
   "id": "2caeb21e",
   "metadata": {},
   "outputs": [
    {
     "name": "stdout",
     "output_type": "stream",
     "text": [
      "1011\n"
     ]
    }
   ],
   "source": [
    "ones_comp=''\n",
    "for bit in num_2:\n",
    "    if bit=='0':\n",
    "        ones_comp+='1'\n",
    "    else:\n",
    "        ones_comp+='0'\n",
    "   \n",
    "print(ones_comp)\n",
    "        \n"
   ]
  },
  {
   "cell_type": "code",
   "execution_count": 48,
   "id": "fa500e1f",
   "metadata": {},
   "outputs": [
    {
     "name": "stdout",
     "output_type": "stream",
     "text": [
      "1100\n"
     ]
    }
   ],
   "source": [
    "twos_comp=bin(int(ones_comp,2)+1)[2:]#slices the first two character 0b\n",
    "if (len(twos_comp)<len(num_2)):\n",
    "    twos_comp='0'*(len(num_2)-len(twos_comp))+twos_comp\n",
    "print(twos_comp)"
   ]
  },
  {
   "cell_type": "code",
   "execution_count": 49,
   "id": "650a8afe",
   "metadata": {},
   "outputs": [
    {
     "name": "stdout",
     "output_type": "stream",
     "text": [
      "1111 0011\n"
     ]
    }
   ],
   "source": [
    "reverse_num1=num_1[::-1]\n",
    "reverse_twoscomp=twos_comp[::-1]\n",
    "print(reverse_num1,reverse_twoscomp)"
   ]
  },
  {
   "cell_type": "code",
   "execution_count": 50,
   "id": "a969ab6f",
   "metadata": {},
   "outputs": [],
   "source": [
    "cin='0'\n",
    "sum=''"
   ]
  },
  {
   "cell_type": "code",
   "execution_count": 51,
   "id": "d88d422f",
   "metadata": {},
   "outputs": [
    {
     "name": "stdout",
     "output_type": "stream",
     "text": [
      "1011\n"
     ]
    }
   ],
   "source": [
    "for i in range(0,n):\n",
    "    sum = sum + XOR(XOR(reverse_num1[i],reverse_twoscomp[i]),cin)\n",
    "    intermediate_xor = XOR(reverse_num1[i], reverse_twoscomp[i])\n",
    "    intermediate_and = AND(reverse_num1[i], reverse_twoscomp[i])\n",
    "    cin = OR(intermediate_and, AND(intermediate_xor,cin))\n",
    "sum=sum[::-1]\n",
    "print(sum)"
   ]
  },
  {
   "cell_type": "code",
   "execution_count": 52,
   "id": "5b1cf58d",
   "metadata": {},
   "outputs": [
    {
     "name": "stdout",
     "output_type": "stream",
     "text": [
      " 1111\n",
      "-0100\n",
      "-----\n",
      " 1011\n"
     ]
    }
   ],
   "source": [
    "print(' '+num_1)\n",
    "print('-'+num_2)\n",
    "print('-'*(n+1)) \n",
    "print(' '+sum) "
   ]
  },
  {
   "cell_type": "code",
   "execution_count": null,
   "id": "8210e5ef",
   "metadata": {},
   "outputs": [],
   "source": []
  }
 ],
 "metadata": {
  "kernelspec": {
   "display_name": "Python 3 (ipykernel)",
   "language": "python",
   "name": "python3"
  },
  "language_info": {
   "codemirror_mode": {
    "name": "ipython",
    "version": 3
   },
   "file_extension": ".py",
   "mimetype": "text/x-python",
   "name": "python",
   "nbconvert_exporter": "python",
   "pygments_lexer": "ipython3",
   "version": "3.10.9"
  }
 },
 "nbformat": 4,
 "nbformat_minor": 5
}
