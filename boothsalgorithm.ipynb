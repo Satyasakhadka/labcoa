{
 "cells": [
  {
   "cell_type": "code",
   "execution_count": 1,
   "id": "f3f1ec3a",
   "metadata": {},
   "outputs": [],
   "source": [
    "def AND(num1,num2):\n",
    "    if(num1=='1' and num2=='1'):\n",
    "        return '1'\n",
    "    else:\n",
    "        return '0'\n",
    "def OR(num1,num2):\n",
    "    if(num1=='1' or num2=='1'):\n",
    "        return '1'\n",
    "    else:\n",
    "        return '0'\n",
    "def XOR(num1,num2):\n",
    "    if(num1==num2):\n",
    "        return '0'\n",
    "    else:\n",
    "        return '1'"
   ]
  },
  {
   "cell_type": "code",
   "execution_count": 2,
   "id": "544acb9c",
   "metadata": {},
   "outputs": [],
   "source": [
    "def SUB(num_1,num_2):\n",
    "    n=len(num_1)\n",
    "    ones_comp=''\n",
    "    for bit in num_2:\n",
    "        if bit=='0':\n",
    "            ones_comp+='1'\n",
    "        else:\n",
    "            ones_comp+='0'\n",
    "    twos_comp=bin(int(ones_comp,2)+1)[2:]#slices the first two character 0b\n",
    "    if (len(twos_comp)<len(num_2)):\n",
    "        twos_comp='0'*(len(num_2)-len(twos_comp))+twos_comp\n",
    "    reverse_num1=num_1[::-1]\n",
    "    reverse_twoscomp=twos_comp[::-1]\n",
    "    cin='0'\n",
    "    sum=''\n",
    "    for i in range(0,n):\n",
    "        sum = sum + XOR(XOR(reverse_num1[i],reverse_twoscomp[i]),cin)\n",
    "        intermediate_xor = XOR(reverse_num1[i], reverse_twoscomp[i])\n",
    "        intermediate_and = AND(reverse_num1[i], reverse_twoscomp[i])\n",
    "        cin = OR(intermediate_and, AND(intermediate_xor,cin))\n",
    "    sum=sum[::-1]\n",
    "    \n",
    "    return sum"
   ]
  },
  {
   "cell_type": "code",
   "execution_count": 3,
   "id": "f4db3085",
   "metadata": {},
   "outputs": [],
   "source": [
    "def add(num_1,num_2):\n",
    "    n=len(num_1)\n",
    "    \n",
    "    reverse_num1=num_1[::-1]\n",
    "\n",
    "    num_2=num_2.zfill(n)\n",
    "    reverse_num2=num_2[::-1]\n",
    "    cin='0'\n",
    "    sum=''\n",
    "    for i in range(0,n):\n",
    "        sum = sum + XOR(XOR(reverse_num1[i],reverse_num2[i]),cin)\n",
    "        intermediate_xor = XOR(reverse_num1[i], reverse_num2[i])\n",
    "        intermediate_and = AND(reverse_num1[i], reverse_num2[i])\n",
    "        cin = OR(intermediate_and, AND(intermediate_xor,cin))\n",
    "    sum=sum[::-1]\n",
    "\n",
    "    return sum\n",
    "\n",
    "\n",
    "\n",
    "   \n",
    "    \n"
   ]
  },
  {
   "cell_type": "code",
   "execution_count": 4,
   "id": "89b122fa",
   "metadata": {},
   "outputs": [
    {
     "name": "stdout",
     "output_type": "stream",
     "text": [
      "Enter multiplicand:1010\n",
      "Enter multiplier:1011\n"
     ]
    }
   ],
   "source": [
    "m=input(\"Enter multiplicand:\")\n",
    "q=input(\"Enter multiplier:\")\n",
    "a='0'*len(m)\n",
    "q1='0'\n"
   ]
  },
  {
   "cell_type": "code",
   "execution_count": 5,
   "id": "d340880d",
   "metadata": {},
   "outputs": [
    {
     "name": "stdout",
     "output_type": "stream",
     "text": [
      "initial: 0000 1011 0\n",
      "\n",
      "step: 1\n",
      "0110 1011 0\n",
      "0011 0101 1\n",
      "\n",
      "step: 2\n",
      "0001 1010 1\n",
      "\n",
      "step: 3\n",
      "1011 1010 1\n",
      "1101 1101 0\n",
      "\n",
      "step: 4\n",
      "0011 1101 0\n",
      "0001 1110 1\n"
     ]
    }
   ],
   "source": [
    "print(\"initial:\",a,q,q1)\n",
    "count =len(m)\n",
    "while(count):\n",
    "    print(\"\\nstep:\", len(m) - count + 1)\n",
    "    if(q[-1]=='1' and q1=='0'):\n",
    "        a=SUB(a,m)\n",
    "        print(a,q,q1)\n",
    "    elif(q[-1]=='0' and q1=='1'):\n",
    "        a=add(a,m)\n",
    "        print(a,q,q1)\n",
    "    q1=q[-1]\n",
    "    q=a[-1]+q[:3]\n",
    "    a=a[0]+a[:3]\n",
    "    print(a,q,q1)\n",
    "    count=count-1\n",
    "    if(count==0):\n",
    "        break;\n"
   ]
  },
  {
   "cell_type": "code",
   "execution_count": null,
   "id": "bdae25c9",
   "metadata": {},
   "outputs": [],
   "source": []
  },
  {
   "cell_type": "code",
   "execution_count": null,
   "id": "7fc1ebef",
   "metadata": {},
   "outputs": [],
   "source": []
  },
  {
   "cell_type": "code",
   "execution_count": null,
   "id": "5b5a8ddd",
   "metadata": {},
   "outputs": [],
   "source": []
  }
 ],
 "metadata": {
  "kernelspec": {
   "display_name": "Python 3 (ipykernel)",
   "language": "python",
   "name": "python3"
  },
  "language_info": {
   "codemirror_mode": {
    "name": "ipython",
    "version": 3
   },
   "file_extension": ".py",
   "mimetype": "text/x-python",
   "name": "python",
   "nbconvert_exporter": "python",
   "pygments_lexer": "ipython3",
   "version": "3.10.9"
  }
 },
 "nbformat": 4,
 "nbformat_minor": 5
}
